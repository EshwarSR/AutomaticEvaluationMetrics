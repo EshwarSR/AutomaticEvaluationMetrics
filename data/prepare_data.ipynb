{
 "nbformat": 4,
 "nbformat_minor": 2,
 "metadata": {
  "language_info": {
   "name": "python",
   "codemirror_mode": {
    "name": "ipython",
    "version": 3
   },
   "version": "3.7.6-final"
  },
  "orig_nbformat": 2,
  "file_extension": ".py",
  "mimetype": "text/x-python",
  "name": "python",
  "npconvert_exporter": "python",
  "pygments_lexer": "ipython3",
  "version": 3,
  "kernelspec": {
   "name": "python37564bitb6907e3c0bb649fd9a2dec345b230e97",
   "display_name": "Python 3.7.5 64-bit"
  }
 },
 "cells": [
  {
   "cell_type": "code",
   "execution_count": 7,
   "metadata": {},
   "outputs": [
    {
     "output_type": "stream",
     "name": "stdout",
     "text": "Total sentences:  1891\nReference Sentences:  441\nCandidate Sentences:  1450\n"
    }
   ],
   "source": [
    "import pandas as pd\n",
    "import numpy as np\n",
    "import os\n",
    "from bert_score import score\n",
    "\n",
    "file_name = 'asap_sas.tsv'\n",
    "df = pd.read_csv(file_name, delimiter='\\t')\n",
    "# print(df) # print(df.head()) # print(df.columns) # print(len(df))\n",
    "tot = df.loc[(df['EssaySet'] == 3)]\n",
    "print(\"Total sentences: \", len(tot))\n",
    "\n",
    "ref1 = df.loc[(df['EssaySet'] == 3) & (df['Score1'] == 2)]\n",
    "# print(ref1)\n",
    "ref1.reset_index(drop=True, inplace=True)\n",
    "arrs = list(ref1['EssayText'])\n",
    "# print(arrs[0])\n",
    "print(\"Reference Sentences: \", len(arrs))\n",
    "\n",
    "can1 = df.loc[(df['EssaySet'] == 3) & (df['Score1'] != 2)]\n",
    "can1.reset_index(drop=True, inplace=True)\n",
    "cees = list(can1['EssayText'])\n",
    "# print(cees[0])\n",
    "print(\"Candidate Sentences: \", len(cees))"
   ]
  },
  {
   "cell_type": "code",
   "execution_count": 10,
   "metadata": {},
   "outputs": [
    {
     "output_type": "stream",
     "name": "stdout",
     "text": "100\n441\n541\nDone\n"
    }
   ],
   "source": [
    "nrefs = arrs\n",
    "ncands = cees[:100]\n",
    "rc = []\n",
    "rc += ncands\n",
    "rc += nrefs\n",
    "print(len(ncands))\n",
    "print(len(nrefs))\n",
    "print(len(rc))\n",
    "\n",
    "# first 100 lines are cands and next 441 lines are refs\n",
    "with open('ess3_small.txt', 'w') as f:\n",
    "    for item in rc:\n",
    "        f.write(\"%s\\n\" % item)\n",
    "\n",
    "print(\"Done\")"
   ]
  }
 ]
}