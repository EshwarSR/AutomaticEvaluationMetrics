{
 "nbformat": 4,
 "nbformat_minor": 2,
 "metadata": {
  "language_info": {
   "name": "python",
   "codemirror_mode": {
    "name": "ipython",
    "version": 3
   },
   "version": "3.7.6-final"
  },
  "orig_nbformat": 2,
  "file_extension": ".py",
  "mimetype": "text/x-python",
  "name": "python",
  "npconvert_exporter": "python",
  "pygments_lexer": "ipython3",
  "version": 3,
  "kernelspec": {
   "name": "python37564bitb6907e3c0bb649fd9a2dec345b230e97",
   "display_name": "Python 3.7.5 64-bit"
  }
 },
 "cells": [
  {
   "cell_type": "code",
   "execution_count": 3,
   "metadata": {},
   "outputs": [
    {
     "output_type": "stream",
     "name": "stdout",
     "text": "Candidate Sentences:  100\nReference Sentences:  441\n"
    }
   ],
   "source": [
    "import pandas as pd\n",
    "import numpy as np\n",
    "import os\n",
    "from bert_score import score\n",
    "\n",
    "fn1 = '../data/cand_100.tsv'\n",
    "fn2 = '../data/reference_data.tsv'\n",
    "df1 = pd.read_csv(fn1, delimiter='\\t')\n",
    "df2 = pd.read_csv(fn2, delimiter='\\t')\n",
    "\n",
    "cands = df1.values.tolist()\n",
    "print(\"Candidate Sentences: \", len(cands))\n",
    "refs = df2.values.tolist()\n",
    "print(\"Reference Sentences: \", len(refs))"
   ]
  },
  {
   "cell_type": "code",
   "execution_count": 6,
   "metadata": {},
   "outputs": [],
   "source": [
    "# broadcasting refs so that len(cands) == len(refs)\n",
    "refs = [refs] * len(cands)\n",
    "assert len(cands) == len(refs)"
   ]
  },
  {
   "cell_type": "code",
   "execution_count": 8,
   "metadata": {},
   "outputs": [],
   "source": [
    "sol = score(cands, refs, model_type=None, num_layers=None, verbose=True,\n",
    "            idf=False, device=None, batch_size=64, nthreads=4, all_layers=False,\n",
    "            lang=\"en\", return_hash=False, rescale_with_baseline=False)\n",
    "\n",
    "print(len(sol))"
   ]
  },
  {
   "cell_type": "code",
   "execution_count": null,
   "metadata": {},
   "outputs": [],
   "source": [
    "# import matplotlib.pyplot as plt\n",
    "# plt.hist(F1, bins=20)\n",
    "# plt.show()"
   ]
  },
  {
   "cell_type": "code",
   "execution_count": null,
   "metadata": {},
   "outputs": [],
   "source": [
    "# from bert_score import plot_example\n",
    "# cand = cands[0]\n",
    "# ref = refs[0][0]\n",
    "# plot_example(cand, ref, lang=\"en\", rescale_with_baseline=False)"
   ]
  }
 ]
}