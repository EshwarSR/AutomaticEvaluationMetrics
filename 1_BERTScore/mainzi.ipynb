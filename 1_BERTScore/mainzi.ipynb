{
 "nbformat": 4,
 "nbformat_minor": 2,
 "metadata": {
  "language_info": {
   "name": "python",
   "codemirror_mode": {
    "name": "ipython",
    "version": 3
   },
   "version": "3.7.6-final"
  },
  "orig_nbformat": 2,
  "file_extension": ".py",
  "mimetype": "text/x-python",
  "name": "python",
  "npconvert_exporter": "python",
  "pygments_lexer": "ipython3",
  "version": 3,
  "kernelspec": {
   "name": "python37564bitb6907e3c0bb649fd9a2dec345b230e97",
   "display_name": "Python 3.7.5 64-bit"
  }
 },
 "cells": [
  {
   "cell_type": "code",
   "execution_count": 28,
   "metadata": {},
   "outputs": [
    {
     "output_type": "stream",
     "name": "stdout",
     "text": "Total Sentences:  541\n<class 'list'>\n100\n<class 'list'>\n1\n"
    }
   ],
   "source": [
    "import pandas as pd\n",
    "import numpy as np\n",
    "import os\n",
    "from bert_score import score\n",
    "lc = 100\n",
    "lr = 441\n",
    "\n",
    "# 1st 100 lines are cands, next 441 lines are refs\n",
    "file_name = '../data/ess3_small.txt'\n",
    "df = pd.read_csv(file_name, delimiter='\\n', header=None)\n",
    "print(\"Total Sentences: \",len(df))\n",
    "\n",
    "cands = df[:100].values.tolist()\n",
    "print(len(cands))\n",
    "\n",
    "refs = df[100:].values.tolist()\n",
    "refs = [refs] # * len(cands)\n",
    "print(len(refs))"
   ]
  },
  {
   "cell_type": "code",
   "execution_count": 29,
   "metadata": {},
   "outputs": [],
   "source": [
    "sol = score(cands, refs, model_type=None, num_layers=None, verbose=False,\n",
    "            idf=False, device=None, batch_size=64, nthreads=4, all_layers=False,\n",
    "            lang=\"en\", return_hash=False, rescale_with_baseline=False)\n",
    "\n",
    "print(len(sol))"
   ]
  }
 ]
}